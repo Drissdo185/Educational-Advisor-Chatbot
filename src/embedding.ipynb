{
 "cells": [
  {
   "cell_type": "code",
   "execution_count": 1,
   "metadata": {},
   "outputs": [
    {
     "name": "stderr",
     "output_type": "stream",
     "text": [
      "/home/drissdo/anaconda3/envs/thesis/lib/python3.9/site-packages/sentence_transformers/cross_encoder/CrossEncoder.py:13: TqdmWarning: IProgress not found. Please update jupyter and ipywidgets. See https://ipywidgets.readthedocs.io/en/stable/user_install.html\n",
      "  from tqdm.autonotebook import tqdm, trange\n",
      "/home/drissdo/anaconda3/envs/thesis/lib/python3.9/site-packages/pydantic/_internal/_fields.py:132: UserWarning: Field \"model_name\" in HuggingFaceInferenceAPIEmbeddings has conflict with protected namespace \"model_\".\n",
      "\n",
      "You may be able to resolve this warning by setting `model_config['protected_namespaces'] = ()`.\n",
      "  warnings.warn(\n",
      "/tmp/ipykernel_10069/766943423.py:7: LangChainDeprecationWarning: The class `HuggingFaceEmbeddings` was deprecated in LangChain 0.2.2 and will be removed in 1.0. An updated version of the class exists in the langchain-huggingface package and should be used instead. To use it run `pip install -U langchain-huggingface` and import as `from langchain_huggingface import HuggingFaceEmbeddings`.\n",
      "  embedding_function = HuggingFaceEmbeddings(model_name=\"all-MiniLM-L6-v2\")\n",
      "/home/drissdo/anaconda3/envs/thesis/lib/python3.9/site-packages/transformers/tokenization_utils_base.py:1601: FutureWarning: `clean_up_tokenization_spaces` was not set. It will be set to `True` by default. This behavior will be depracted in transformers v4.45, and will be then set to `False` by default. For more details check this issue: https://github.com/huggingface/transformers/issues/31884\n",
      "  warnings.warn(\n"
     ]
    },
    {
     "name": "stdout",
     "output_type": "stream",
     "text": [
      "Collection name: chatbot\n",
      "Number of documents: 36\n",
      "---\n"
     ]
    }
   ],
   "source": [
    "from langchain_chroma import Chroma\n",
    "from sentence_transformers import SentenceTransformer\n",
    "from chromadb.utils import embedding_functions\n",
    "from langchain.embeddings import HuggingFaceEmbeddings\n",
    "\n",
    "# Create the embedding function\n",
    "embedding_function = HuggingFaceEmbeddings(model_name=\"all-MiniLM-L6-v2\")\n",
    "\n",
    "# Initialize Chroma with the correct embedding function\n",
    "vector_store = Chroma(\n",
    "    collection_name=\"chatbot\",\n",
    "    embedding_function=embedding_function,\n",
    "    persist_directory=\"./chroma_langchain_db\"\n",
    ")\n",
    "\n",
    "# Access the underlying ChromaDB client\n",
    "chroma_client = vector_store._client\n",
    "\n",
    "# List all collections\n",
    "collections = chroma_client.list_collections()\n",
    "\n",
    "# Print the names of all collections\n",
    "for collection in collections:\n",
    "    print(f\"Collection name: {collection.name}\")\n",
    "    print(f\"Number of documents: {collection.count()}\")\n",
    "    print(\"---\")"
   ]
  },
  {
   "cell_type": "code",
   "execution_count": 2,
   "metadata": {},
   "outputs": [
    {
     "name": "stdout",
     "output_type": "stream",
     "text": [
      "Collection 'chatbot' has been deleted.\n"
     ]
    }
   ],
   "source": [
    "# Delete a specific collection by name\n",
    "collection_name_to_delete = \"chatbot\"\n",
    "chroma_client.delete_collection(collection_name_to_delete)\n",
    "print(f\"Collection '{collection_name_to_delete}' has been deleted.\")"
   ]
  },
  {
   "cell_type": "code",
   "execution_count": 9,
   "metadata": {},
   "outputs": [
    {
     "data": {
      "text/plain": [
       "[{'id': 'admissions_1',\n",
       "  'text': \"The International University, established in December 2003, is the only multidisciplinary public university in Vietnam that teaches and conducts research entirely in English. The university offers undergraduate and postgraduate programs, focusing on economics, management, and engineering technology. With a model that meets international standards, the university collaborates with prestigious universities from the United States, Europe, and the Asia-Pacific region. The university's goal is to become a leading research university in Vietnam and the region, providing high-quality human resources to meet the demands of integration.\",\n",
       "  'category': 'Admissions',\n",
       "  'topic': 'University Information',\n",
       "  'metadata': {'question': 'Information about the university?',\n",
       "   'keywords': ['university', 'information', 'programs']}},\n",
       " {'id': 'admissions_2',\n",
       "  'text': 'The International University offers 23 training programs granted by the International University itself, and 20 training programs in affiliation with prestigious partners.',\n",
       "  'category': 'Admissions',\n",
       "  'topic': 'Number of Majors',\n",
       "  'metadata': {'question': 'How many majors does the university offer?',\n",
       "   'keywords': ['how many',\n",
       "    'majors',\n",
       "    'training programs',\n",
       "    'university partners']}},\n",
       " {'id': 'admissions_3',\n",
       "  'text': 'The university offers a wide range of majors, including: Marketing, Statistics, Economics, Chemical Engineering, Chemistry (Biochemistry), Food Technology, Biotechnology, Accounting, Finance and Banking, Environmental Engineering, Aerospace Engineering, Financial Engineering and Risk Management (Applied Mathematics), Construction Management, Civil Engineering, Electronics and Telecommunications Engineering, Biomedical Engineering, Control and Automation Engineering, Industrial Systems Engineering, Logistics and Supply Chain Management, Data Science, Information Technology, Computer Science, English Language, and Business Administration.',\n",
       "  'category': 'Admissions',\n",
       "  'topic': 'List of Majors',\n",
       "  'metadata': {'question': 'What are the majors offered by the university?',\n",
       "   'keywords': ['majors', 'university', 'departments']}}]"
      ]
     },
     "execution_count": 9,
     "metadata": {},
     "output_type": "execute_result"
    }
   ],
   "source": [
    "import json\n",
    "\n",
    "with open('../data/en/tuyen_sinh_en.json','r') as file:\n",
    "    data = json.load(file)\n",
    "data    "
   ]
  },
  {
   "cell_type": "code",
   "execution_count": 10,
   "metadata": {},
   "outputs": [
    {
     "data": {
      "text/plain": [
       "['f95d6835-e5e5-42dc-abac-6ef13e56763d',\n",
       " '9b2f85fe-89d0-4c9c-9515-effe3c4ffb6c',\n",
       " '2af02e33-ca2f-4a21-a430-6b8e36de5d42']"
      ]
     },
     "execution_count": 10,
     "metadata": {},
     "output_type": "execute_result"
    }
   ],
   "source": [
    "from uuid import uuid4\n",
    "\n",
    "from langchain_core.documents import Document\n",
    "\n",
    "document_1 = Document(\n",
    "    page_content=\"The International University offers 23 training programs granted by the International University itself, and 20 training programs in affiliation with prestigious partners.\",\n",
    "    metadata={\"topic\": \"major\"},\n",
    "    id=1,\n",
    ")\n",
    "\n",
    "document_2 = Document(\n",
    "    page_content=\"The International University, established in December 2003, is the only multidisciplinary public university in Vietnam that teaches and conducts research entirely in English. The university offers undergraduate and postgraduate programs, focusing on economics, management, and engineering technology. With a model that meets international standards, the university collaborates with prestigious universities from the United States, Europe, and the Asia-Pacific region. The university's goal is to become a leading research university in Vietnam and the region, providing high-quality human resources to meet the demands of integration.\",\n",
    "    metadata={\"topic\": \"admission\"},\n",
    "    id=2,\n",
    ")\n",
    "\n",
    "document_3 = Document(\n",
    "    page_content=\"The university offers a wide range of majors, including: Marketing, Statistics, Economics, Chemical Engineering, Chemistry (Biochemistry), Food Technology, Biotechnology, Accounting, Finance and Banking, Environmental Engineering, Aerospace Engineering, Financial Engineering and Risk Management (Applied Mathematics), Construction Management, Civil Engineering, Electronics and Telecommunications Engineering, Biomedical Engineering, Control and Automation Engineering, Industrial Systems Engineering, Logistics and Supply Chain Management, Data Science, Information Technology, Computer Science, English Language, and Business Administration.\",\n",
    "    metadata={\"topic\": \"admission\"},\n",
    "    id=3,\n",
    ")\n",
    "documents = [\n",
    "    document_1,\n",
    "    document_2,\n",
    "    document_3,\n",
    "]\n",
    "uuids = [str(uuid4()) for _ in range(len(documents))]\n",
    "\n",
    "vector_store.add_documents(documents=documents, ids=uuids)"
   ]
  },
  {
   "cell_type": "code",
   "execution_count": 11,
   "metadata": {},
   "outputs": [
    {
     "name": "stdout",
     "output_type": "stream",
     "text": [
      "* The university offers a wide range of majors, including: Marketing, Statistics, Economics, Chemical Engineering, Chemistry (Biochemistry), Food Technology, Biotechnology, Accounting, Finance and Banking, Environmental Engineering, Aerospace Engineering, Financial Engineering and Risk Management (Applied Mathematics), Construction Management, Civil Engineering, Electronics and Telecommunications Engineering, Biomedical Engineering, Control and Automation Engineering, Industrial Systems Engineering, Logistics and Supply Chain Management, Data Science, Information Technology, Computer Science, English Language, and Business Administration. [{'source': 'tweet'}]\n"
     ]
    }
   ],
   "source": [
    "results = vector_store.similarity_search_by_vector(\n",
    "    embedding=embedding_function.embed_query(\"How many major\"), k=1\n",
    ")\n",
    "for doc in results:\n",
    "    print(f\"* {doc.page_content} [{doc.metadata}]\")"
   ]
  },
  {
   "cell_type": "code",
   "execution_count": null,
   "metadata": {},
   "outputs": [],
   "source": []
  }
 ],
 "metadata": {
  "kernelspec": {
   "display_name": "thesis",
   "language": "python",
   "name": "python3"
  },
  "language_info": {
   "codemirror_mode": {
    "name": "ipython",
    "version": 3
   },
   "file_extension": ".py",
   "mimetype": "text/x-python",
   "name": "python",
   "nbconvert_exporter": "python",
   "pygments_lexer": "ipython3",
   "version": "3.9.19"
  }
 },
 "nbformat": 4,
 "nbformat_minor": 2
}
