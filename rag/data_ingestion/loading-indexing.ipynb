{
 "cells": [
  {
   "cell_type": "markdown",
   "metadata": {},
   "source": [
    "# Reading Data"
   ]
  },
  {
   "cell_type": "code",
   "metadata": {
    "ExecuteTime": {
     "end_time": "2024-10-23T03:46:58.253537Z",
     "start_time": "2024-10-23T03:46:54.616815Z"
    }
   },
   "source": [
    "import json\n",
    "\n",
    "path = \"/home/drissdo/Desktop/Law_Q&A/data/structured_data_doc.json\"\n",
    "with open(path) as f:\n",
    "    all_data = json.load(f)\n",
    "\n",
    "len(all_data)"
   ],
   "outputs": [
    {
     "data": {
      "text/plain": [
       "5455"
      ]
     },
     "execution_count": 10,
     "metadata": {},
     "output_type": "execute_result"
    }
   ],
   "execution_count": 10
  },
  {
   "cell_type": "code",
   "metadata": {
    "ExecuteTime": {
     "end_time": "2024-10-23T03:46:58.379139Z",
     "start_time": "2024-10-23T03:46:58.376585Z"
    }
   },
   "source": [
    "# all_data[2]"
   ],
   "outputs": [],
   "execution_count": 11
  },
  {
   "cell_type": "markdown",
   "metadata": {},
   "source": [
    "# Loading data"
   ]
  },
  {
   "cell_type": "code",
   "metadata": {
    "ExecuteTime": {
     "end_time": "2024-10-23T03:47:02.224371Z",
     "start_time": "2024-10-23T03:46:58.433161Z"
    }
   },
   "source": [
    "## lOADL \n",
    "\n",
    "from llama_index.core import Document\n",
    "\n",
    "documents = []\n",
    "count = 0\n",
    "for doc_data in all_data:\n",
    "    for child_data in doc_data[\"child_data\"]:\n",
    "        if len(child_data[\"lower_segmented_text\"].strip()): # Check if empty or not\n",
    "            documents.append(Document(text=child_data[\"full_text\"],\n",
    "                                    metadata={\n",
    "                                        \"filename\": doc_data[\"meta_data\"][\"file_name\"],\n",
    "                                        \"source\": doc_data[\"meta_data\"][\"id_doc\"] + \", \" + \", \".join(child for child in child_data['pointer_link']),\n",
    "                                        \"len_tokenizer\": child_data[\"len_tokenizer\"]\n",
    "                                    },\n",
    "                                    text_template=\"{content}\",\n",
    "                                    excluded_embed_metadata_keys=[\"filename\", \"source\", \"len_tokenizer\"],\n",
    "                                    excluded_llm_metadata_keys=[\"filename\", \"source\", \"len_tokenizer\"]))\n",
    "        else:\n",
    "            count += 1\n",
    "\n",
    "print(f\"There are {count} empty documents\")"
   ],
   "outputs": [
    {
     "name": "stdout",
     "output_type": "stream",
     "text": [
      "There are 0 empty documents\n"
     ]
    }
   ],
   "execution_count": 12
  },
  {
   "cell_type": "code",
   "metadata": {
    "ExecuteTime": {
     "end_time": "2024-10-23T03:47:02.334806Z",
     "start_time": "2024-10-23T03:47:02.329241Z"
    }
   },
   "source": [
    "documents[0].metadata"
   ],
   "outputs": [
    {
     "data": {
      "text/plain": [
       "{'filename': 'Decree_No._139_2021_ND-CP_dated_December_31,_2021_.json',\n",
       " 'source': '139/2021/ND-CP, Chương I, Điều 1',\n",
       " 'len_tokenizer': 157}"
      ]
     },
     "execution_count": 13,
     "metadata": {},
     "output_type": "execute_result"
    }
   ],
   "execution_count": 13
  },
  {
   "cell_type": "markdown",
   "metadata": {},
   "source": [
    "# Transformation"
   ]
  },
  {
   "cell_type": "code",
   "metadata": {
    "ExecuteTime": {
     "end_time": "2024-10-23T03:47:03.998522Z",
     "start_time": "2024-10-23T03:47:02.458123Z"
    }
   },
   "source": [
    "from pyvi import ViTokenizer\n",
    "from transformers import AutoTokenizer\n",
    "from llama_index.core.node_parser import TokenTextSplitter, SentenceSplitter\n",
    "\n",
    "tokenizer = AutoTokenizer.from_pretrained(\"bkai-foundation-models/vietnamese-bi-encoder\")"
   ],
   "outputs": [
    {
     "name": "stderr",
     "output_type": "stream",
     "text": [
      "/home/drissdo/anaconda3/envs/thesis/lib/python3.9/site-packages/tqdm/auto.py:21: TqdmWarning: IProgress not found. Please update jupyter and ipywidgets. See https://ipywidgets.readthedocs.io/en/stable/user_install.html\n",
      "  from .autonotebook import tqdm as notebook_tqdm\n"
     ]
    }
   ],
   "execution_count": 14
  },
  {
   "cell_type": "code",
   "metadata": {
    "ExecuteTime": {
     "end_time": "2024-10-23T03:51:19.624766Z",
     "start_time": "2024-10-23T03:47:04.010392Z"
    }
   },
   "source": [
    "base_node_parser = TokenTextSplitter( \n",
    "                                chunk_overlap=0,\n",
    "                                chunk_size=900,\n",
    "                                separator=\" \",\n",
    "                                backup_separators=[\"__\", \"..\", \"--\"],\n",
    "                                include_prev_next_rel=False\n",
    "                                )\n",
    "\n",
    "\n",
    "base_nodes = base_node_parser.get_nodes_from_documents(documents,\n",
    "                                                       show_progress=True)"
   ],
   "outputs": [
    {
     "name": "stderr",
     "output_type": "stream",
     "text": [
      "Parsing nodes: 100%|██████████| 142362/142362 [04:13<00:00, 561.88it/s] \n"
     ]
    }
   ],
   "execution_count": 15
  },
  {
   "cell_type": "code",
   "metadata": {
    "ExecuteTime": {
     "end_time": "2024-10-23T03:51:19.730391Z",
     "start_time": "2024-10-23T03:51:19.727094Z"
    }
   },
   "source": [
    "len(base_nodes), base_nodes[0]"
   ],
   "outputs": [
    {
     "data": {
      "text/plain": [
       "(177893,\n",
       " TextNode(id_='f275d313-0c46-4b2c-b5f6-58fed0959871', embedding=None, metadata={'filename': 'Decree_No._139_2021_ND-CP_dated_December_31,_2021_.json', 'source': '139/2021/ND-CP, Chương I, Điều 1', 'len_tokenizer': 157}, excluded_embed_metadata_keys=['filename', 'source', 'len_tokenizer'], excluded_llm_metadata_keys=['filename', 'source', 'len_tokenizer'], relationships={<NodeRelationship.SOURCE: '1'>: RelatedNodeInfo(node_id='646e04c3-7d3d-401b-b914-b693eb007ff9', node_type=<ObjectType.DOCUMENT: '4'>, metadata={'filename': 'Decree_No._139_2021_ND-CP_dated_December_31,_2021_.json', 'source': '139/2021/ND-CP, Chương I, Điều 1', 'len_tokenizer': 157}, hash='e4fa2847d6f6a6f3fbf15130e07caf1867c5e72fa36feb8b6e66895f51c9efb1')}, text='Điều 1. Phạm vi điều chỉnh\\n1. Nghị định này quy định về:\\n\\ta) Hành vi vi phạm hành chính, hình thức xử phạt, mức xử phạt, biện pháp khắc phục hậu quả và thẩm quyền lập biên bản vi phạm hành chính, thẩm quyền xử phạt vi phạm hành chính trong lĩnh vực giao thông đường thủy nội địa;\\n\\tb) Các hành vi vi phạm về hoạt động của phương tiện thủy nội địa ngoài phạm vi luồng và vùng nước chưa được tổ chức quản lý, khai thác giao thông vận tải, bao gồm: Vi phạm của phương tiện thủy nội địa; thuyền viên, người lái phương tiện; quy tắc giao thông và tín hiệu của phương tiện; vận tải đường thủy nội địa; tai nạn giao thông đường thủy nội địa và tìm kiếm, cứu nạn giao thông đường thủy nội địa.\\n2. Các hành vi vi phạm hành chính khác liên quan đến giao thông đường thủy nội địa không được quy định tại Nghị định này thì áp dụng các quy định tại các Nghị định xử phạt vi phạm hành chính trong các lĩnh vực khác có liên quan.', mimetype='text/plain', start_char_idx=0, end_char_idx=913, text_template='{content}', metadata_template='{key}: {value}', metadata_seperator='\\n'))"
      ]
     },
     "execution_count": 16,
     "metadata": {},
     "output_type": "execute_result"
    }
   ],
   "execution_count": 16
  },
  {
   "cell_type": "code",
   "metadata": {
    "ExecuteTime": {
     "end_time": "2024-10-23T03:51:19.793494Z",
     "start_time": "2024-10-23T03:51:19.790715Z"
    }
   },
   "source": [
    "# # Save as parent parquet \n",
    "# import os\n",
    "# from datasets import Dataset\n",
    "\n",
    "# dataset = Dataset.from_list([node.to_dict() for node in base_nodes])\n",
    "\n",
    "# with open(os.path.join(\"/home/s/ducnq/law-rag/data/hf\", \"parent_nodes.parquet\"), \"wb\") as fOut:\n",
    "#     dataset.to_parquet(fOut)"
   ],
   "outputs": [],
   "execution_count": 17
  },
  {
   "cell_type": "code",
   "metadata": {
    "ExecuteTime": {
     "end_time": "2024-10-23T03:51:19.986834Z",
     "start_time": "2024-10-23T03:51:19.856323Z"
    }
   },
   "source": [
    "# Child nodes\n",
    "from tqdm import tqdm\n",
    "for base_node in tqdm(base_nodes):\n",
    "    base_node.metadata[\"parent_text\"] = base_node.text\n",
    "    # base_node.text = ViTokenizer.tokenize(base_node.text.lower())\n",
    "    base_node.excluded_embed_metadata_keys.append(\"parent_text\")\n",
    "    base_node.excluded_llm_metadata_keys.append(\"parent_text\")"
   ],
   "outputs": [
    {
     "name": "stderr",
     "output_type": "stream",
     "text": [
      "100%|██████████| 177893/177893 [00:00<00:00, 1434322.29it/s]\n"
     ]
    }
   ],
   "execution_count": 18
  },
  {
   "cell_type": "code",
   "metadata": {
    "ExecuteTime": {
     "end_time": "2024-10-23T03:51:19.996287Z",
     "start_time": "2024-10-23T03:51:19.993618Z"
    }
   },
   "source": [
    "child_node_parser= SentenceSplitter(\n",
    "                    chunk_size=600,\n",
    "                    chunk_overlap=90,\n",
    "                    separator=\" \",\n",
    "                    include_prev_next_rel=False,\n",
    "                    )"
   ],
   "outputs": [],
   "execution_count": 19
  },
  {
   "cell_type": "code",
   "metadata": {
    "ExecuteTime": {
     "end_time": "2024-10-23T03:53:01.402007Z",
     "start_time": "2024-10-23T03:51:20.067476Z"
    }
   },
   "source": [
    "child_nodes = child_node_parser.get_nodes_from_documents(base_nodes,\n",
    "                                                         show_progress=True)"
   ],
   "outputs": [
    {
     "name": "stderr",
     "output_type": "stream",
     "text": [
      "Parsing nodes: 100%|██████████| 177893/177893 [01:37<00:00, 1818.00it/s]\n"
     ]
    }
   ],
   "execution_count": 20
  },
  {
   "cell_type": "code",
   "metadata": {
    "ExecuteTime": {
     "end_time": "2024-10-23T03:53:01.419882Z",
     "start_time": "2024-10-23T03:53:01.415835Z"
    }
   },
   "source": [
    "len(child_nodes), child_nodes[2]"
   ],
   "outputs": [
    {
     "data": {
      "text/plain": [
       "(239561,\n",
       " TextNode(id_='0fc7834a-cdc8-4829-ad5e-8f80df20337c', embedding=None, metadata={'filename': 'Decree_No._139_2021_ND-CP_dated_December_31,_2021_.json', 'source': '139/2021/ND-CP, Chương I, Điều 2', 'len_tokenizer': 426, 'parent_text': 'Điều 2. Đối tượng áp dụng\\n1. Cá nhân, tổ chức Việt Nam và nước ngoài có hành vi vi phạm hành chính trong lĩnh vực giao thông đường thủy nội địa tại Việt Nam.\\n2. Người có thẩm quyền lập biên bản, thẩm quyền xử phạt vi phạm hành chính và tổ chức, cá nhân có liên quan đến việc xử phạt vi phạm hành chính theo quy định tại Nghị định này.\\n3. Tổ chức quy định tại khoản 1 Điều này gồm:\\n\\ta) Tổ chức kinh tế được thành lập theo quy định của Luật Doanh nghiệp gồm: Doanh nghiệp tư nhân, công ty cổ phần, công ty trách nhiệm hữu hạn, công ty hợp danh;\\n\\tb) Tổ chức kinh tế được thành lập theo quy định của Luật Hợp tác xã gồm: Hợp tác xã, liên hiệp hợp tác xã;\\n\\tc) Tổ chức xã hội, tổ chức chính trị-xã hội, tổ chức xã hội - nghề nghiệp;\\n\\td) Đơn vị sự nghiệp và các tổ chức khác theo quy định của pháp luật.\\n4. Hộ kinh doanh, hộ gia đình thực hiện hành vi vi phạm hành chính quy định tại Nghị định này bị xử phạt như đối với cá nhân vi phạm.\\n5. Đối với các đơn vị phụ thuộc doanh nghiệp (chi nhánh, văn phòng đại diện) thì xác định như sau:\\n\\ta) Chi nhánh, văn phòng đại diện, địa điểm kinh doanh vi phạm hành chính trong phạm vi và thời hạn được ủy quyền của pháp nhân, tổ chức hoặc theo sự chỉ đạo, điều hành, phân công, chấp thuận của pháp nhân, tổ chức thì đối tượng bị xử phạt vi phạm hành chính là pháp nhân, tổ chức đó và bị xử phạt vi phạm hành chính theo mức phạt áp dụng đối với tổ chức về những hoạt động do chi nhánh, văn phòng đại diện, địa điểm kinh doanh của pháp nhân, tổ chức đó thực hiện.\\n\\tb) Chi nhánh, văn phòng đại diện, địa điểm kinh doanh của pháp nhân, tổ chức thực hiện hành vi vi phạm hành chính không thuộc phạm vi, thời hạn được doanh nghiệp ủy quyền hoặc không theo sự chỉ đạo, điều hành, phân công, chấp thuận của pháp nhân, tổ chức, thì chi nhánh, văn phòng đại diện, địa điểm kinh doanh của doanh nghiệp phải chịu'}, excluded_embed_metadata_keys=['filename', 'source', 'len_tokenizer', 'parent_text'], excluded_llm_metadata_keys=['filename', 'source', 'len_tokenizer', 'parent_text'], relationships={<NodeRelationship.SOURCE: '1'>: RelatedNodeInfo(node_id='4013d096-7302-4831-8298-ed5cf7e89dba', node_type=<ObjectType.DOCUMENT: '4'>, metadata={'filename': 'Decree_No._139_2021_ND-CP_dated_December_31,_2021_.json', 'source': '139/2021/ND-CP, Chương I, Điều 2', 'len_tokenizer': 426}, hash='9c1ff0e9c941c98c2029679db5962aeb91792654d4fb67a6b41e56c3d9a994fa')}, text='4. Hộ kinh doanh, hộ gia đình thực hiện hành vi vi phạm hành chính quy định tại Nghị định này bị xử phạt như đối với cá nhân vi phạm.\\n5. Đối với các đơn vị phụ thuộc doanh nghiệp (chi nhánh, văn phòng đại diện) thì xác định như sau:\\n\\ta) Chi nhánh, văn phòng đại diện, địa điểm kinh doanh vi phạm hành chính trong phạm vi và thời hạn được ủy quyền của pháp nhân, tổ chức hoặc theo sự chỉ đạo, điều hành, phân công, chấp thuận của pháp nhân, tổ chức thì đối tượng bị xử phạt vi phạm hành chính là pháp nhân, tổ chức đó và bị xử phạt vi phạm hành chính theo mức phạt áp dụng đối với tổ chức về những hoạt động do chi nhánh, văn phòng đại diện, địa điểm kinh doanh của pháp nhân, tổ chức đó thực hiện.\\n\\tb) Chi nhánh, văn phòng đại diện, địa điểm kinh doanh của pháp nhân, tổ chức thực hiện hành vi vi phạm hành chính không thuộc phạm vi, thời hạn được doanh nghiệp ủy quyền hoặc không theo sự chỉ đạo, điều hành, phân công, chấp thuận của pháp nhân, tổ chức, thì chi nhánh, văn phòng đại diện, địa điểm kinh doanh của doanh nghiệp phải chịu', mimetype='text/plain', start_char_idx=797, end_char_idx=1833, text_template='{content}', metadata_template='{key}: {value}', metadata_seperator='\\n'))"
      ]
     },
     "execution_count": 21,
     "metadata": {},
     "output_type": "execute_result"
    }
   ],
   "execution_count": 21
  },
  {
   "cell_type": "code",
   "metadata": {
    "jupyter": {
     "is_executing": true
    },
    "ExecuteTime": {
     "start_time": "2024-10-23T03:53:01.471570Z"
    }
   },
   "source": [
    "from tqdm import tqdm\n",
    "from llama_index.core.schema import NodeRelationship\n",
    "\n",
    "for child_node in tqdm(child_nodes):\n",
    "    child_node.text = ViTokenizer.tokenize(child_node.text.lower())\n",
    "    try:\n",
    "        del child_node.relationships[NodeRelationship.SOURCE].metadata\n",
    "    except AttributeError:\n",
    "        continue"
   ],
   "outputs": [
    {
     "name": "stderr",
     "output_type": "stream",
     "text": [
      "  7%|▋         | 15607/239561 [00:29<06:25, 580.53it/s]"
     ]
    }
   ],
   "execution_count": null
  },
  {
   "cell_type": "code",
   "execution_count": 15,
   "metadata": {},
   "outputs": [
    {
     "data": {
      "text/plain": [
       "(239561,\n",
       " TextNode(id_='d7d314aa-728e-4cae-bbc9-b3de542e373a', embedding=None, metadata={'filename': 'Decree_No._139_2021_ND-CP_dated_December_31,_2021_.json', 'source': '139/2021/ND-CP, Chương I, Điều 2', 'len_tokenizer': 426, 'parent_text': 'Điều 2. Đối tượng áp dụng\\n1. Cá nhân, tổ chức Việt Nam và nước ngoài có hành vi vi phạm hành chính trong lĩnh vực giao thông đường thủy nội địa tại Việt Nam.\\n2. Người có thẩm quyền lập biên bản, thẩm quyền xử phạt vi phạm hành chính và tổ chức, cá nhân có liên quan đến việc xử phạt vi phạm hành chính theo quy định tại Nghị định này.\\n3. Tổ chức quy định tại khoản 1 Điều này gồm:\\n\\ta) Tổ chức kinh tế được thành lập theo quy định của Luật Doanh nghiệp gồm: Doanh nghiệp tư nhân, công ty cổ phần, công ty trách nhiệm hữu hạn, công ty hợp danh;\\n\\tb) Tổ chức kinh tế được thành lập theo quy định của Luật Hợp tác xã gồm: Hợp tác xã, liên hiệp hợp tác xã;\\n\\tc) Tổ chức xã hội, tổ chức chính trị-xã hội, tổ chức xã hội - nghề nghiệp;\\n\\td) Đơn vị sự nghiệp và các tổ chức khác theo quy định của pháp luật.\\n4. Hộ kinh doanh, hộ gia đình thực hiện hành vi vi phạm hành chính quy định tại Nghị định này bị xử phạt như đối với cá nhân vi phạm.\\n5. Đối với các đơn vị phụ thuộc doanh nghiệp (chi nhánh, văn phòng đại diện) thì xác định như sau:\\n\\ta) Chi nhánh, văn phòng đại diện, địa điểm kinh doanh vi phạm hành chính trong phạm vi và thời hạn được ủy quyền của pháp nhân, tổ chức hoặc theo sự chỉ đạo, điều hành, phân công, chấp thuận của pháp nhân, tổ chức thì đối tượng bị xử phạt vi phạm hành chính là pháp nhân, tổ chức đó và bị xử phạt vi phạm hành chính theo mức phạt áp dụng đối với tổ chức về những hoạt động do chi nhánh, văn phòng đại diện, địa điểm kinh doanh của pháp nhân, tổ chức đó thực hiện.\\n\\tb) Chi nhánh, văn phòng đại diện, địa điểm kinh doanh của pháp nhân, tổ chức thực hiện hành vi vi phạm hành chính không thuộc phạm vi, thời hạn được doanh nghiệp ủy quyền hoặc không theo sự chỉ đạo, điều hành, phân công, chấp thuận của pháp nhân, tổ chức, thì chi nhánh, văn phòng đại diện, địa điểm kinh doanh của doanh nghiệp phải chịu'}, excluded_embed_metadata_keys=['filename', 'source', 'len_tokenizer', 'parent_text'], excluded_llm_metadata_keys=['filename', 'source', 'len_tokenizer', 'parent_text'], relationships={<NodeRelationship.SOURCE: '1'>: RelatedNodeInfo(node_id='b6d40f6f-2be5-45e7-9e9a-fe2d0254bee6', node_type=<ObjectType.DOCUMENT: '4'>, hash='9c1ff0e9c941c98c2029679db5962aeb91792654d4fb67a6b41e56c3d9a994fa')}, text='4 . hộ kinh_doanh , hộ gia_đình thực_hiện_hành_vi vi_phạm hành_chính quy_định tại nghị_định này bị xử_phạt như đối_với cá_nhân vi_phạm . \\n 5 . đối_với các đơn_vị phụ_thuộc doanh_nghiệp ( chi_nhánh , văn_phòng đại_diện ) thì xác_định như sau : \\n a ) chi_nhánh , văn_phòng đại_diện , địa_điểm kinh_doanh vi_phạm hành_chính trong phạm_vi và thời_hạn được ủy quyền của pháp_nhân , tổ_chức hoặc theo sự chỉ_đạo , điều_hành , phân_công , chấp_thuận của pháp_nhân , tổ_chức thì đối_tượng bị xử_phạt vi_phạm hành_chính là pháp_nhân , tổ_chức đó và bị xử_phạt vi_phạm hành_chính theo mức phạt áp_dụng đối_với tổ_chức về những hoạt_động do chi_nhánh , văn_phòng đại_diện , địa_điểm kinh_doanh của pháp_nhân , tổ_chức đó thực_hiện . \\n b ) chi_nhánh , văn_phòng đại_diện , địa_điểm kinh_doanh của pháp_nhân , tổ_chức thực_hiện_hành_vi vi_phạm hành_chính không thuộc phạm_vi , thời_hạn được doanh_nghiệp ủy quyền hoặc không theo sự chỉ_đạo , điều_hành , phân_công , chấp_thuận của pháp_nhân , tổ_chức , thì chi_nhánh , văn_phòng đại_diện , địa_điểm kinh_doanh của doanh_nghiệp phải chịu', mimetype='text/plain', start_char_idx=797, end_char_idx=1833, text_template='{content}', metadata_template='{key}: {value}', metadata_seperator='\\n'))"
      ]
     },
     "execution_count": 15,
     "metadata": {},
     "output_type": "execute_result"
    }
   ],
   "source": [
    "len(child_nodes), child_nodes[2]"
   ]
  },
  {
   "cell_type": "code",
   "execution_count": 16,
   "metadata": {},
   "outputs": [
    {
     "name": "stderr",
     "output_type": "stream",
     "text": [
      "/home/drissdo/anaconda3/envs/thesis/lib/python3.9/site-packages/llama_index/core/schema.py:79: UserWarning: Pydantic serializer warnings:\n",
      "  Expected `Union[definition-ref, list[definition-ref]]` but got `RelatedNodeInfo` with value `RelatedNodeInfo(node_id='...6feb8b6e66895f51c9efb1')` - serialized value may not be as expected\n",
      "  data = handler(self)\n"
     ]
    },
    {
     "data": {
      "text/plain": [
       "{'id_': 'edf296b6-c206-430b-88d5-01abe306f134',\n",
       " 'embedding': None,\n",
       " 'metadata': {'filename': 'Decree_No._139_2021_ND-CP_dated_December_31,_2021_.json',\n",
       "  'source': '139/2021/ND-CP, Chương I, Điều 1',\n",
       "  'len_tokenizer': 157,\n",
       "  'parent_text': 'Điều 1. Phạm vi điều chỉnh\\n1. Nghị định này quy định về:\\n\\ta) Hành vi vi phạm hành chính, hình thức xử phạt, mức xử phạt, biện pháp khắc phục hậu quả và thẩm quyền lập biên bản vi phạm hành chính, thẩm quyền xử phạt vi phạm hành chính trong lĩnh vực giao thông đường thủy nội địa;\\n\\tb) Các hành vi vi phạm về hoạt động của phương tiện thủy nội địa ngoài phạm vi luồng và vùng nước chưa được tổ chức quản lý, khai thác giao thông vận tải, bao gồm: Vi phạm của phương tiện thủy nội địa; thuyền viên, người lái phương tiện; quy tắc giao thông và tín hiệu của phương tiện; vận tải đường thủy nội địa; tai nạn giao thông đường thủy nội địa và tìm kiếm, cứu nạn giao thông đường thủy nội địa.\\n2. Các hành vi vi phạm hành chính khác liên quan đến giao thông đường thủy nội địa không được quy định tại Nghị định này thì áp dụng các quy định tại các Nghị định xử phạt vi phạm hành chính trong các lĩnh vực khác có liên quan.'},\n",
       " 'excluded_embed_metadata_keys': ['filename',\n",
       "  'source',\n",
       "  'len_tokenizer',\n",
       "  'parent_text'],\n",
       " 'excluded_llm_metadata_keys': ['filename',\n",
       "  'source',\n",
       "  'len_tokenizer',\n",
       "  'parent_text'],\n",
       " 'relationships': {<NodeRelationship.SOURCE: '1'>: {'node_id': '8209cd22-dac7-487e-b526-fb300dd6bb14',\n",
       "   'node_type': <ObjectType.DOCUMENT: '4'>,\n",
       "   'hash': 'e4fa2847d6f6a6f3fbf15130e07caf1867c5e72fa36feb8b6e66895f51c9efb1',\n",
       "   'class_name': 'RelatedNodeInfo'}},\n",
       " 'text': 'điều 1 . phạm_vi điều_chỉnh \\n 1 . nghị_định này quy_định về : \\n a ) hành_vi vi_phạm hành_chính , hình_thức xử_phạt , mức xử_phạt , biện_pháp khắc_phục hậu_quả và thẩm_quyền lập biên_bản vi_phạm hành_chính , thẩm_quyền xử_phạt vi_phạm hành_chính trong lĩnh_vực giao_thông đường thủy_nội_địa ; \\n b ) các hành_vi vi_phạm về hoạt_động của phương_tiện thủy_nội_địa ngoài phạm_vi luồng và vùng nước chưa được tổ_chức quản_lý , khai_thác giao_thông vận_tải , bao_gồm : vi_phạm của phương_tiện thủy_nội_địa ; thuyền_viên , người lái phương_tiện ; quy_tắc giao_thông và tín_hiệu của phương_tiện ; vận_tải đường thủy_nội_địa ; tai_nạn giao_thông đường thủy_nội_địa và tìm_kiếm , cứu nạn giao_thông đường thủy_nội_địa . \\n 2 . các hành_vi vi_phạm hành_chính khác liên_quan đến giao_thông đường thủy_nội_địa không được quy_định tại nghị_định này thì áp_dụng các quy_định tại các nghị_định xử_phạt vi_phạm hành_chính trong các lĩnh_vực khác có liên_quan .',\n",
       " 'mimetype': 'text/plain',\n",
       " 'start_char_idx': 0,\n",
       " 'end_char_idx': 913,\n",
       " 'text_template': '{content}',\n",
       " 'metadata_template': '{key}: {value}',\n",
       " 'metadata_seperator': '\\n',\n",
       " 'class_name': 'TextNode'}"
      ]
     },
     "execution_count": 16,
     "metadata": {},
     "output_type": "execute_result"
    }
   ],
   "source": [
    "child_nodes[0].to_dict()"
   ]
  },
  {
   "cell_type": "code",
   "execution_count": 17,
   "metadata": {},
   "outputs": [],
   "source": [
    "# # Save as child parquet \n",
    "# import os\n",
    "# from datasets import Dataset\n",
    "\n",
    "# dataset = Dataset.from_list([node.to_dict() for node in child_nodes])\n",
    "\n",
    "# with open(os.path.join(\"/home/s/ducnq/law-rag/data/hf\", \"child_nodes.parquet\"), \"wb\") as fOut:\n",
    "#     dataset.to_parquet(fOut)"
   ]
  },
  {
   "cell_type": "code",
   "execution_count": 18,
   "metadata": {},
   "outputs": [],
   "source": [
    "# # Upload to folder to HF \n",
    "# from huggingface_hub import HfApi\n",
    "# \n",
    "# REPO_ID = \"bkai-foundation-models/TVPL\"\n",
    "# REPO_TYPE = \"dataset\"\n",
    "# api = HfApi()\n",
    "# \n",
    "# # api.create_repo(\n",
    "# #     repo_id=REPO_ID,\n",
    "# #     private=True,\n",
    "# #     repo_type=REPO_TYPE,\n",
    "# #     exist_ok=False\n",
    "# # )\n",
    "# \n",
    "# \n",
    "# api.upload_folder(folder_path=\"/home/s/ducnq/law-rag/data/hf\",\n",
    "#                   repo_id=REPO_ID,\n",
    "#                   repo_type=REPO_TYPE)"
   ]
  },
  {
   "cell_type": "code",
   "execution_count": 19,
   "metadata": {},
   "outputs": [],
   "source": [
    "# from llama_index.llms.llama_cpp.llama_utils import messages_to_prompt "
   ]
  },
  {
   "cell_type": "markdown",
   "metadata": {},
   "source": [
    "# Indexing"
   ]
  },
  {
   "cell_type": "code",
   "execution_count": 20,
   "metadata": {},
   "outputs": [
    {
     "name": "stderr",
     "output_type": "stream",
     "text": [
      "Error while downloading from https://cdn-lfs.hf.co/repos/6a/01/6a013f50310eb721451b1ec4fc4c296585a62ff28aed65f2dc482828fc2f5bd8/e681accadaec87e79901db0c3f68e33d996cba334633b6dd0b2483dba4f398e0?response-content-disposition=inline%3B+filename*%3DUTF-8%27%27model.safetensors%3B+filename%3D%22model.safetensors%22%3B&Expires=1729831321&Policy=eyJTdGF0ZW1lbnQiOlt7IkNvbmRpdGlvbiI6eyJEYXRlTGVzc1RoYW4iOnsiQVdTOkVwb2NoVGltZSI6MTcyOTgzMTMyMX19LCJSZXNvdXJjZSI6Imh0dHBzOi8vY2RuLWxmcy5oZi5jby9yZXBvcy82YS8wMS82YTAxM2Y1MDMxMGViNzIxNDUxYjFlYzRmYzRjMjk2NTg1YTYyZmYyOGFlZDY1ZjJkYzQ4MjgyOGZjMmY1YmQ4L2U2ODFhY2NhZGFlYzg3ZTc5OTAxZGIwYzNmNjhlMzNkOTk2Y2JhMzM0NjMzYjZkZDBiMjQ4M2RiYTRmMzk4ZTA%7EcmVzcG9uc2UtY29udGVudC1kaXNwb3NpdGlvbj0qIn1dfQ__&Signature=qZyAN724OlzqfQW5Xtu9WPtBqonXxh7XZjQwXz0CsT%7E6zVTBL9w8v0--Gk%7EZfdTEZPY0PijLs-GLA1NxkXAL3k8l8Ui40EVtB%7En1eoLt8UX5roNUuIL5L6rwWAkjf7BFk3Rdw41w7kinZATfVdFe8rU5sFYLXy5L1lpttAYzUdom2XkarTRoMv%7EQyTIqSTeoZDI3KfruW-5H6DPd0W830LSRcrZnWqiV2mZIBsoBwPjUOYkG3PIk50cVuX70CpnqbKWLvGMMcbGaYUfVlkahEKfl9sHw796zgJdri%7EqEricOWobMGxQOT72H%7En01OTiykvucGGnwPZoEGjgYIq%7E5Ag__&Key-Pair-Id=K3RPWS32NSSJCE: HTTPSConnectionPool(host='cdn-lfs.hf.co', port=443): Read timed out.\n",
      "Trying to resume download...\n",
      "Error while downloading from https://cdn-lfs.hf.co/repos/6a/01/6a013f50310eb721451b1ec4fc4c296585a62ff28aed65f2dc482828fc2f5bd8/e681accadaec87e79901db0c3f68e33d996cba334633b6dd0b2483dba4f398e0?response-content-disposition=inline%3B+filename*%3DUTF-8%27%27model.safetensors%3B+filename%3D%22model.safetensors%22%3B&Expires=1729831321&Policy=eyJTdGF0ZW1lbnQiOlt7IkNvbmRpdGlvbiI6eyJEYXRlTGVzc1RoYW4iOnsiQVdTOkVwb2NoVGltZSI6MTcyOTgzMTMyMX19LCJSZXNvdXJjZSI6Imh0dHBzOi8vY2RuLWxmcy5oZi5jby9yZXBvcy82YS8wMS82YTAxM2Y1MDMxMGViNzIxNDUxYjFlYzRmYzRjMjk2NTg1YTYyZmYyOGFlZDY1ZjJkYzQ4MjgyOGZjMmY1YmQ4L2U2ODFhY2NhZGFlYzg3ZTc5OTAxZGIwYzNmNjhlMzNkOTk2Y2JhMzM0NjMzYjZkZDBiMjQ4M2RiYTRmMzk4ZTA%7EcmVzcG9uc2UtY29udGVudC1kaXNwb3NpdGlvbj0qIn1dfQ__&Signature=qZyAN724OlzqfQW5Xtu9WPtBqonXxh7XZjQwXz0CsT%7E6zVTBL9w8v0--Gk%7EZfdTEZPY0PijLs-GLA1NxkXAL3k8l8Ui40EVtB%7En1eoLt8UX5roNUuIL5L6rwWAkjf7BFk3Rdw41w7kinZATfVdFe8rU5sFYLXy5L1lpttAYzUdom2XkarTRoMv%7EQyTIqSTeoZDI3KfruW-5H6DPd0W830LSRcrZnWqiV2mZIBsoBwPjUOYkG3PIk50cVuX70CpnqbKWLvGMMcbGaYUfVlkahEKfl9sHw796zgJdri%7EqEricOWobMGxQOT72H%7En01OTiykvucGGnwPZoEGjgYIq%7E5Ag__&Key-Pair-Id=K3RPWS32NSSJCE: HTTPSConnectionPool(host='cdn-lfs.hf.co', port=443): Read timed out.\n",
      "Trying to resume download...\n",
      "Error while downloading from https://cdn-lfs.hf.co/repos/6a/01/6a013f50310eb721451b1ec4fc4c296585a62ff28aed65f2dc482828fc2f5bd8/e681accadaec87e79901db0c3f68e33d996cba334633b6dd0b2483dba4f398e0?response-content-disposition=inline%3B+filename*%3DUTF-8%27%27model.safetensors%3B+filename%3D%22model.safetensors%22%3B&Expires=1729831321&Policy=eyJTdGF0ZW1lbnQiOlt7IkNvbmRpdGlvbiI6eyJEYXRlTGVzc1RoYW4iOnsiQVdTOkVwb2NoVGltZSI6MTcyOTgzMTMyMX19LCJSZXNvdXJjZSI6Imh0dHBzOi8vY2RuLWxmcy5oZi5jby9yZXBvcy82YS8wMS82YTAxM2Y1MDMxMGViNzIxNDUxYjFlYzRmYzRjMjk2NTg1YTYyZmYyOGFlZDY1ZjJkYzQ4MjgyOGZjMmY1YmQ4L2U2ODFhY2NhZGFlYzg3ZTc5OTAxZGIwYzNmNjhlMzNkOTk2Y2JhMzM0NjMzYjZkZDBiMjQ4M2RiYTRmMzk4ZTA%7EcmVzcG9uc2UtY29udGVudC1kaXNwb3NpdGlvbj0qIn1dfQ__&Signature=qZyAN724OlzqfQW5Xtu9WPtBqonXxh7XZjQwXz0CsT%7E6zVTBL9w8v0--Gk%7EZfdTEZPY0PijLs-GLA1NxkXAL3k8l8Ui40EVtB%7En1eoLt8UX5roNUuIL5L6rwWAkjf7BFk3Rdw41w7kinZATfVdFe8rU5sFYLXy5L1lpttAYzUdom2XkarTRoMv%7EQyTIqSTeoZDI3KfruW-5H6DPd0W830LSRcrZnWqiV2mZIBsoBwPjUOYkG3PIk50cVuX70CpnqbKWLvGMMcbGaYUfVlkahEKfl9sHw796zgJdri%7EqEricOWobMGxQOT72H%7En01OTiykvucGGnwPZoEGjgYIq%7E5Ag__&Key-Pair-Id=K3RPWS32NSSJCE: HTTPSConnectionPool(host='cdn-lfs.hf.co', port=443): Read timed out.\n",
      "Trying to resume download...\n",
      "Error while downloading from https://cdn-lfs.hf.co/repos/6a/01/6a013f50310eb721451b1ec4fc4c296585a62ff28aed65f2dc482828fc2f5bd8/e681accadaec87e79901db0c3f68e33d996cba334633b6dd0b2483dba4f398e0?response-content-disposition=inline%3B+filename*%3DUTF-8%27%27model.safetensors%3B+filename%3D%22model.safetensors%22%3B&Expires=1729831321&Policy=eyJTdGF0ZW1lbnQiOlt7IkNvbmRpdGlvbiI6eyJEYXRlTGVzc1RoYW4iOnsiQVdTOkVwb2NoVGltZSI6MTcyOTgzMTMyMX19LCJSZXNvdXJjZSI6Imh0dHBzOi8vY2RuLWxmcy5oZi5jby9yZXBvcy82YS8wMS82YTAxM2Y1MDMxMGViNzIxNDUxYjFlYzRmYzRjMjk2NTg1YTYyZmYyOGFlZDY1ZjJkYzQ4MjgyOGZjMmY1YmQ4L2U2ODFhY2NhZGFlYzg3ZTc5OTAxZGIwYzNmNjhlMzNkOTk2Y2JhMzM0NjMzYjZkZDBiMjQ4M2RiYTRmMzk4ZTA%7EcmVzcG9uc2UtY29udGVudC1kaXNwb3NpdGlvbj0qIn1dfQ__&Signature=qZyAN724OlzqfQW5Xtu9WPtBqonXxh7XZjQwXz0CsT%7E6zVTBL9w8v0--Gk%7EZfdTEZPY0PijLs-GLA1NxkXAL3k8l8Ui40EVtB%7En1eoLt8UX5roNUuIL5L6rwWAkjf7BFk3Rdw41w7kinZATfVdFe8rU5sFYLXy5L1lpttAYzUdom2XkarTRoMv%7EQyTIqSTeoZDI3KfruW-5H6DPd0W830LSRcrZnWqiV2mZIBsoBwPjUOYkG3PIk50cVuX70CpnqbKWLvGMMcbGaYUfVlkahEKfl9sHw796zgJdri%7EqEricOWobMGxQOT72H%7En01OTiykvucGGnwPZoEGjgYIq%7E5Ag__&Key-Pair-Id=K3RPWS32NSSJCE: HTTPSConnectionPool(host='cdn-lfs.hf.co', port=443): Read timed out.\n",
      "Trying to resume download...\n"
     ]
    },
    {
     "ename": "TypeError",
     "evalue": "int() argument must be a string, a bytes-like object or a number, not 'NoneType'",
     "output_type": "error",
     "traceback": [
      "\u001B[0;31m---------------------------------------------------------------------------\u001B[0m",
      "\u001B[0;31mTypeError\u001B[0m                                 Traceback (most recent call last)",
      "Cell \u001B[0;32mIn[20], line 10\u001B[0m\n\u001B[1;32m      6\u001B[0m MODEL_NAME \u001B[38;5;241m=\u001B[39m \u001B[38;5;124m\"\u001B[39m\u001B[38;5;124mbkai-foundation-models/vietnamese-bi-encoder\u001B[39m\u001B[38;5;124m\"\u001B[39m\n\u001B[1;32m      7\u001B[0m embed_model \u001B[38;5;241m=\u001B[39m HuggingFaceEmbedding(model_name\u001B[38;5;241m=\u001B[39mMODEL_NAME, \n\u001B[1;32m      8\u001B[0m                                    max_length\u001B[38;5;241m=\u001B[39m\u001B[38;5;241m256\u001B[39m)\n\u001B[0;32m---> 10\u001B[0m vector_store \u001B[38;5;241m=\u001B[39m \u001B[43mChromaVectorStore\u001B[49m\u001B[43m(\u001B[49m\u001B[43mpath\u001B[49m\u001B[38;5;241;43m=\u001B[39;49m\u001B[38;5;124;43m\"\u001B[39;49m\u001B[38;5;124;43m./chroma_db\u001B[39;49m\u001B[38;5;124;43m\"\u001B[39;49m\u001B[43m)\u001B[49m\n\u001B[1;32m     12\u001B[0m storage_context \u001B[38;5;241m=\u001B[39m StorageContext\u001B[38;5;241m.\u001B[39mfrom_defaults(vector_store\u001B[38;5;241m=\u001B[39mvector_store)\n\u001B[1;32m     14\u001B[0m index \u001B[38;5;241m=\u001B[39m VectorStoreIndex(child_nodes, \n\u001B[1;32m     15\u001B[0m                          storage_context\u001B[38;5;241m=\u001B[39mstorage_context, \n\u001B[1;32m     16\u001B[0m                          embed_model\u001B[38;5;241m=\u001B[39membed_model,\n\u001B[1;32m     17\u001B[0m                          insert_batch_size\u001B[38;5;241m=\u001B[39m\u001B[38;5;241m32768\u001B[39m,\n\u001B[1;32m     18\u001B[0m                          show_progress\u001B[38;5;241m=\u001B[39m\u001B[38;5;28;01mTrue\u001B[39;00m)\n",
      "File \u001B[0;32m~/anaconda3/envs/thesis/lib/python3.9/site-packages/llama_index/vector_stores/chroma/base.py:178\u001B[0m, in \u001B[0;36mChromaVectorStore.__init__\u001B[0;34m(self, chroma_collection, collection_name, host, port, ssl, headers, persist_dir, collection_kwargs, **kwargs)\u001B[0m\n\u001B[1;32m    168\u001B[0m \u001B[38;5;28msuper\u001B[39m()\u001B[38;5;241m.\u001B[39m\u001B[38;5;21m__init__\u001B[39m(\n\u001B[1;32m    169\u001B[0m     host\u001B[38;5;241m=\u001B[39mhost,\n\u001B[1;32m    170\u001B[0m     port\u001B[38;5;241m=\u001B[39mport,\n\u001B[0;32m   (...)\u001B[0m\n\u001B[1;32m    175\u001B[0m     collection_kwargs\u001B[38;5;241m=\u001B[39mcollection_kwargs \u001B[38;5;129;01mor\u001B[39;00m {},\n\u001B[1;32m    176\u001B[0m )\n\u001B[1;32m    177\u001B[0m \u001B[38;5;28;01mif\u001B[39;00m chroma_collection \u001B[38;5;129;01mis\u001B[39;00m \u001B[38;5;28;01mNone\u001B[39;00m:\n\u001B[0;32m--> 178\u001B[0m     client \u001B[38;5;241m=\u001B[39m \u001B[43mchromadb\u001B[49m\u001B[38;5;241;43m.\u001B[39;49m\u001B[43mHttpClient\u001B[49m\u001B[43m(\u001B[49m\u001B[43mhost\u001B[49m\u001B[38;5;241;43m=\u001B[39;49m\u001B[43mhost\u001B[49m\u001B[43m,\u001B[49m\u001B[43m \u001B[49m\u001B[43mport\u001B[49m\u001B[38;5;241;43m=\u001B[39;49m\u001B[43mport\u001B[49m\u001B[43m,\u001B[49m\u001B[43m \u001B[49m\u001B[43mssl\u001B[49m\u001B[38;5;241;43m=\u001B[39;49m\u001B[43mssl\u001B[49m\u001B[43m,\u001B[49m\u001B[43m \u001B[49m\u001B[43mheaders\u001B[49m\u001B[38;5;241;43m=\u001B[39;49m\u001B[43mheaders\u001B[49m\u001B[43m)\u001B[49m\n\u001B[1;32m    179\u001B[0m     \u001B[38;5;28mself\u001B[39m\u001B[38;5;241m.\u001B[39m_collection \u001B[38;5;241m=\u001B[39m client\u001B[38;5;241m.\u001B[39mget_or_create_collection(\n\u001B[1;32m    180\u001B[0m         name\u001B[38;5;241m=\u001B[39mcollection_name, \u001B[38;5;241m*\u001B[39m\u001B[38;5;241m*\u001B[39mcollection_kwargs\n\u001B[1;32m    181\u001B[0m     )\n\u001B[1;32m    182\u001B[0m \u001B[38;5;28;01melse\u001B[39;00m:\n",
      "File \u001B[0;32m~/anaconda3/envs/thesis/lib/python3.9/site-packages/chromadb/__init__.py:185\u001B[0m, in \u001B[0;36mHttpClient\u001B[0;34m(host, port, ssl, headers, settings, tenant, database)\u001B[0m\n\u001B[1;32m    183\u001B[0m \u001B[38;5;66;03m# Make sure parameters are the correct types -- users can pass anything.\u001B[39;00m\n\u001B[1;32m    184\u001B[0m host \u001B[38;5;241m=\u001B[39m \u001B[38;5;28mstr\u001B[39m(host)\n\u001B[0;32m--> 185\u001B[0m port \u001B[38;5;241m=\u001B[39m \u001B[38;5;28;43mint\u001B[39;49m\u001B[43m(\u001B[49m\u001B[43mport\u001B[49m\u001B[43m)\u001B[49m\n\u001B[1;32m    186\u001B[0m ssl \u001B[38;5;241m=\u001B[39m \u001B[38;5;28mbool\u001B[39m(ssl)\n\u001B[1;32m    187\u001B[0m tenant \u001B[38;5;241m=\u001B[39m \u001B[38;5;28mstr\u001B[39m(tenant)\n",
      "\u001B[0;31mTypeError\u001B[0m: int() argument must be a string, a bytes-like object or a number, not 'NoneType'"
     ]
    }
   ],
   "source": [
    "from llama_index.core import StorageContext\n",
    "from llama_index.core import VectorStoreIndex\n",
    "from llama_index.embeddings.huggingface import HuggingFaceEmbedding\n",
    "from llama_index.vector_stores.chroma import ChromaVectorStore\n",
    "\n",
    "MODEL_NAME = \"bkai-foundation-models/vietnamese-bi-encoder\"\n",
    "embed_model = HuggingFaceEmbedding(model_name=MODEL_NAME, \n",
    "                                   max_length=256)\n",
    "\n",
    "vector_store = ChromaVectorStore(path=\"./chroma_db\")\n",
    "\n",
    "storage_context = StorageContext.from_defaults(vector_store=vector_store)\n",
    "\n",
    "index = VectorStoreIndex(child_nodes, \n",
    "                         storage_context=storage_context, \n",
    "                         embed_model=embed_model,\n",
    "                         insert_batch_size=32768,\n",
    "                         show_progress=True)"
   ]
  },
  {
   "cell_type": "markdown",
   "metadata": {},
   "source": [
    "# Test Retrieval"
   ]
  },
  {
   "cell_type": "code",
   "execution_count": 31,
   "metadata": {},
   "outputs": [],
   "source": [
    "## \n",
    "from pyvi import ViTokenizer\n",
    "from llama_index.core.response.notebook_utils import display_source_node\n",
    "base_retriever = index.as_retriever(vector_store_query_mode=\"hybrid\",\n",
    "                                    similarity_top_k=100, \n",
    "                                    alpha=0.5)"
   ]
  },
  {
   "cell_type": "code",
   "execution_count": 32,
   "metadata": {},
   "outputs": [
    {
     "data": {
      "text/markdown": [
       "**Node ID:** d794f7a7-1fe2-4207-964d-c58a0a3ea032<br>**Similarity:** 0.984487734<br>**Text:** điều 8 . trách_nhiệm của người điều_khiển , người ngồi trên xe mô_tô , xe gắn_máy , xe_đạp máy . người điều_khiển , người ngồi trên xe mô_tô , xe gắn_máy ( kể_cả xe_máy_điện ) , xe_đạp máy khi tham_gia giao_thông có trách_nhiệm : \n",
       " 1 . đội mũ bảo_hiểm theo đúng quy_định của pháp_luật . \n",
       " 2 . cài quai mũ theo quy_định sau đây : \n",
       " a ) kéo quai mũ bảo_hiểm sang hai bên rồi đội mũ và đóng khóa mũ lại . không được để quai mũ lỏng_lẻo mà phải đóng khít với cằm ; \n",
       " b ) sau khi đội mũ bảo_hiểm cần kiểm_tra lại bằng cách : dùng tay kéo mũ từ đằng sau ra đằng trước hoặc nâng phần trên trước trán ( hoặc phần_cằm đối_với mũ cả hàm ) lên rồi kéo ra đằng sau , mũ không được bật ra khỏi đầu .<br>**Metadata:** {'filename': 'Thông_tư_liên_tịch_06_2013_TTLT-BKHCN-BCT-BCA-BGTV.json', 'source': '06/2013/TTLT-BKHCN-BCT-BCA-BGTVT, Chương 2, Điều 8', 'len_tokenizer': 154, 'parent_text': 'Điều 8. Trách nhiệm của người điều khiển, người ngồi trên xe mô tô, xe gắn máy, xe đạp máy. Người điều khiển, người ngồi trên xe mô tô, xe gắn máy (kể cả xe máy điện), xe đạp máy khi tham gia giao thông có trách nhiệm:\\n1. Đội mũ bảo hiểm theo đúng quy định của pháp luật.\\n2. Cài quai mũ theo quy định sau đây:\\n\\ta) Kéo quai mũ bảo hiểm sang hai bên rồi đội mũ và đóng khóa mũ lại. Không được để quai mũ lỏng lẻo mà phải đóng khít với cằm;\\n\\tb) Sau khi đội mũ bảo hiểm cần kiểm tra lại bằng cách: dùng tay kéo mũ từ đằng sau ra đằng trước hoặc nâng phần trên trước trán (hoặc phần cằm đối với mũ cả hàm) lên rồi kéo ra đằng sau, mũ không được bật ra khỏi đầu.'}<br>"
      ],
      "text/plain": [
       "<IPython.core.display.Markdown object>"
      ]
     },
     "metadata": {},
     "output_type": "display_data"
    },
    {
     "data": {
      "text/markdown": [
       "**Node ID:** aa931d77-6922-472c-aae7-3010d9bdb892<br>**Similarity:** 0.984556902<br>**Text:** 2 . người điều_khiển , người ngồi trên xe mô_tô , xe gắn_máy ( kể_cả xe_máy_điện ) , xe_đạp máy khi tham_gia giao_thông vi_phạm_quy_định về đội mũ bảo_hiểm thì bị xử_phạt vi_phạm hành_chính theo quy_định của chính_phủ về xử_phạt vi_phạm hành_chính trong lĩnh_vực giao_thông đường_bộ .<br>**Metadata:** {'filename': 'Thông_tư_liên_tịch_06_2013_TTLT-BKHCN-BCT-BCA-BGTV.json', 'source': '06/2013/TTLT-BKHCN-BCT-BCA-BGTVT, Chương 2, Điều 10, Khoản 2', 'len_tokenizer': 52, 'parent_text': '2. Người điều khiển, người ngồi trên xe mô tô, xe gắn máy (kể cả xe máy điện), xe đạp máy khi tham gia giao thông vi phạm quy định về đội mũ bảo hiểm thì bị xử phạt vi phạm hành chính theo quy định của Chính phủ về xử phạt vi phạm hành chính trong lĩnh vực giao thông đường bộ.'}<br>"
      ],
      "text/plain": [
       "<IPython.core.display.Markdown object>"
      ]
     },
     "metadata": {},
     "output_type": "display_data"
    },
    {
     "data": {
      "text/markdown": [
       "**Node ID:** 4cd7ef9f-4085-4e9c-82c8-ddc7de961050<br>**Similarity:** 0.984724814<br>**Text:** b ) phạt tiền đến 15.000.000 đồng đối_với hành_vi vi_phạm trong lĩnh_vực giao_thông đường_bộ , đường_sắt ; b ) phạt tiền đến 75.000.000 đồng đối_với hành_vi vi_phạm trong lĩnh_vực giao_thông đường_bộ , đường_sắt ; \n",
       " o ) chở người ngồi trên xe không đội “ mũ bảo_hiểm cho người đi mô_tô , xe_máy ” hoặc đội “ mũ bảo_hiểm cho người đi mô_tô , xe_máy ” không cài quai đúng quy_cách , trừ trường_hợp chở người_bệnh đi cấp_cứu , trẻ_em dưới 06 tuổi , áp_giải người có hành_vi vi_phạm_pháp_luật . ” ; \n",
       " c ) sửa_đổi khoản 5 điều 6 như sau : “ 5 . phạt tiền từ 1.000.000 đồng đến 2.000.000 đồng đối_với người điều_khiển xe thực_hiện một trong các hành_vi vi_phạm sau đây : c ) điều_khiển xe ô_tô tải ( kể_cả rơ_moóc và sơ_mi rơ_moóc ) có kích_thước thùng_xe không đúng với thông_số kỹ_thuật được ghi trong giấy chứng_nhận kiểm_định an_toàn kỹ_thuật và bảo_vệ môi_trường của xe ; c ) thực_hiện_hành_vi quy_định tại điểm a khoản 3 điều này bị tịch_thu giấy_phép lưu_hành đã hết giá_trị sử_dụng hoặc không do...<br>**Metadata:** {'filename': 'Nghị_định_123_2021_NĐ-CP_sửa_đổi_các_Nghị_định_quy.json', 'source': '123/2021/NĐ-CP, Điều 2', 'len_tokenizer': 16663, 'parent_text': 'đường bộ; b) Không nhường đường hoặc gây cản trở xe được quyền ưu tiên đang phát tín hiệu ưu tiên đi làm nhiệm vụ.”; b) Điều khiển xe (kể cả rơ moóc và sơ mi rơ moóc) không gắn biển số (đối với loại xe có quy định phải gắn biển số); b) Người điều khiển xe ô tô, máy kéo và các loại xe tương tự xe ô tô không có hoặc không mang theo Giấy chứng nhận bảo hiểm trách nhiệm dân sự của chủ xe cơ giới còn hiệu lực. b) Thực hiện hành vi quy định tại khoản 2, khoản 3 Điều này bị tước quyền sử dụng Giấy phép lái xe từ 02 tháng đến 04 tháng; b) Điều khiển xe có Giấy phép lưu hành còn giá trị sử dụng nhưng tổng trọng lượng (khối lượng toàn bộ) của xe hoặc tải trọng trục xe (bao gồm cả hàng hóa xếp trên xe nếu có) vượt quá quy định trong Giấy phép lưu hành; b) Lưu hành phương tiện trên lãnh thổ Việt Nam quá thời hạn quy định dưới 30 ngày. b) Phạt tiền đến 15.000.000 đồng đối với hành vi vi phạm trong lĩnh vực giao thông đường bộ, đường sắt; b) Phạt tiền đến 75.000.000 đồng đối với hành vi vi phạm trong lĩnh vực giao thông đường bộ, đường sắt;\\n\\to) Chở người ngồi trên xe không đội “mũ bảo hiểm cho người đi mô tô, xe máy” hoặc đội “mũ bảo hiểm cho người đi mô tô, xe máy” không cài quai đúng quy cách, trừ trường hợp chở người bệnh đi cấp cứu, trẻ em dưới 06 tuổi, áp giải người có hành vi vi phạm pháp luật.”;\\n\\tc) Sửa đổi khoản 5 Điều 6 như sau: “5. Phạt tiền từ 1.000.000 đồng đến 2.000.000 đồng đối với người điều khiển xe thực hiện một trong các hành vi vi phạm sau đây: c) Điều khiển xe ô tô tải (kể cả rơ moóc và sơ mi rơ moóc) có kích thước thùng xe không đúng với thông số kỹ thuật được ghi trong Giấy chứng nhận kiểm định an toàn kỹ thuật và bảo vệ môi trường của xe; c) Thực hiện hành vi quy định tại điểm a khoản 3 Điều này bị tịch thu Giấy phép lưu hành đã hết giá trị sử dụng hoặc không do cơ quan có thẩm quyền cấp.'}<br>"
      ],
      "text/plain": [
       "<IPython.core.display.Markdown object>"
      ]
     },
     "metadata": {},
     "output_type": "display_data"
    },
    {
     "data": {
      "text/markdown": [
       "**Node ID:** 28576e60-d87f-444e-9ba9-e0229074a655<br>**Similarity:** 0.985224332<br>**Text:** 4 . phạt tiền từ 100.000 đồng đến 200.000 đồng đối_với một trong các hành_vi vi_phạm sau đây : \n",
       " a ) điều_khiển xe lạng_lách , đánh_võng ; đuổi nhau trên đường ; \n",
       " b ) đi xe bằng một bánh đối_với xe_đạp , xe_đạp máy ; đi xe bằng hai bánh đối_với xe xích_lô ; \n",
       " c ) gây tai_nạn giao_thông không dừng lại , không giữ nguyên hiện_trường , bỏ trốn không đến trình_báo với cơ_quan có thẩm_quyền , không tham_gia cấp_cứu người bị nạn ; \n",
       " d ) người điều_khiển , người ngồi trên xe_đạp máy không đội “ mũ bảo_hiểm cho người đi mô_tô , xe_máy ” hoặc đội “ mũ bảo_hiểm cho người đi mô_tô , xe_máy ” không cài quai đúng quy_cách khi tham_gia giao_thông trên đường_bộ ; \n",
       " đ ) chở người ngồi trên xe_đạp máy không đội “ mũ bảo_hiểm cho người đi mô_tô , xe_máy ” hoặc đội “ mũ bảo_hiểm cho người đi mô_tô , xe_máy ” không cài quai đúng quy_cách , trừ trường_hợp chở người_bệnh đi cấp_cứu , trẻ_em dưới 06 tuổi , áp_giải người có hành_vi vi_phạm<br>**Metadata:** {'filename': 'Nghị_định_46_2016_NĐ-CP_quy_định_xử_phạt_vi_phạm_h.json', 'source': '46/2016/NĐ-CP, Chương II, Điều 8', 'len_tokenizer': 873, 'parent_text': 'đẩy làm quầy hàng lưu động trên đường, gây cản trở giao thông;\\n\\tđ) Không nhường đường cho xe đi trên đường ưu tiên, đường chính từ bất kỳ hướng nào tới tại nơi đường giao nhau;\\n\\te) Xe đạp, xe đạp máy, xe xích lô chở quá số người quy định, trừ trường hợp chở người bệnh đi cấp cứu;\\n\\tg) Xếp hàng hóa vượt quá giới hạn quy định, không bảo đảm an toàn, gây trở ngại giao thông, che khuất tầm nhìn của người điều khiển;\\n\\th) Không chấp hành hiệu lệnh của đèn tín hiệu giao thông.\\n3. Phạt tiền từ 80.000 đồng đến 100.000 đồng đối với một trong các hành vi vi phạm sau đây:\\n\\ta) Điều khiển xe đạp, xe đạp máy buông cả hai tay; chuyển hướng đột ngột trước đầu xe cơ giới đang chạy; dùng chân điều khiển xe đạp, xe đạp máy;\\n\\tb) Không chấp hành hiệu lệnh, chỉ dẫn của người điều khiển giao thông hoặc người kiểm soát giao thông;\\n\\tc) Người điều khiển hoặc người ngồi trên xe bám, kéo, đẩy xe khác, vật khác, mang vác vật cồng kềnh; điều khiển xe kéo theo xe khác, vật khác.\\n4. Phạt tiền từ 100.000 đồng đến 200.000 đồng đối với một trong các hành vi vi phạm sau đây:\\n\\ta) Điều khiển xe lạng lách, đánh võng; đuổi nhau trên đường;\\n\\tb) Đi xe bằng một bánh đối với xe đạp, xe đạp máy; đi xe bằng hai bánh đối với xe xích lô;\\n\\tc) Gây tai nạn giao thông không dừng lại, không giữ nguyên hiện trường, bỏ trốn không đến trình báo với cơ quan có thẩm quyền, không tham gia cấp cứu người bị nạn;\\n\\td) Người điều khiển, người ngồi trên xe đạp máy không đội “mũ bảo hiểm cho người đi mô tô, xe máy” hoặc đội “mũ bảo hiểm cho người đi mô tô, xe máy” không cài quai đúng quy cách khi tham gia giao thông trên đường bộ;\\n\\tđ) Chở người ngồi trên xe đạp máy không đội “mũ bảo hiểm cho người đi mô tô, xe máy” hoặc đội “mũ bảo hiểm cho người đi mô tô, xe máy” không cài quai đúng quy cách, trừ trường hợp chở người bệnh đi cấp cứu, trẻ em dưới 06 tuổi, áp giải người có hành vi vi phạm'}<br>"
      ],
      "text/plain": [
       "<IPython.core.display.Markdown object>"
      ]
     },
     "metadata": {},
     "output_type": "display_data"
    },
    {
     "data": {
      "text/markdown": [
       "**Node ID:** a1229abe-ee10-4bf6-a603-98998d491858<br>**Similarity:** 0.985845295<br>**Text:** điều 3 . quy_định về mũ bảo_hiểm , kinh_doanh mũ bảo_hiểm \n",
       " 1 . mũ bảo_hiểm cho người điều_khiển , người ngồi trên xe mô_tô , xe gắn_máy ( kể_cả xe_máy_điện ) , xe_đạp máy đội khi tham_gia giao_thông ( sau đây viết tắt là mũ bảo_hiểm ) là mũ có đủ các tính_năng sau : \n",
       " a ) có cấu_tạo đủ 3 bộ_phận : vỏ mũ , đệm hấp_thụ xung_động bên trong vỏ mũ ( đệm bảo_vệ ) và quai đeo ; có kiểu_dáng đáp_ứng yêu_cầu quy_định tại khoản 2 điều 4 của thông_tư liên_tịch này ; \n",
       " b ) đã được chứng_nhận hợp quy , công_bố hợp quy phù_hợp quy_chuẩn kỹ_thuật quốc_gia qcvn 2 : 2008 / bkhcn ban_hành kèm theo quyết_định số 04 / 2008 / qđ - bkhcn ngày 28 tháng 4 năm 2008 của bộ_trưởng bộ khoa_học và công_nghệ ; được gắn dấu hợp quy cr , ghi nhãn hàng_hóa theo quy_định của pháp_luật . \n",
       " 2 . kinh_doanh mũ bảo_hiểm gồm các hoạt_động : bán_buôn , bán_lẻ , đại_lý mũ bảo_hiểm tại việt_nam .<br>**Metadata:** {'filename': 'Thông_tư_liên_tịch_06_2013_TTLT-BKHCN-BCT-BCA-BGTV.json', 'source': '06/2013/TTLT-BKHCN-BCT-BCA-BGTVT, Chương 1, Điều 3', 'len_tokenizer': 193, 'parent_text': 'Điều 3. Quy định về mũ bảo hiểm, kinh doanh mũ bảo hiểm\\n1. Mũ bảo hiểm cho người điều khiển, người ngồi trên xe mô tô, xe gắn máy (kể cả xe máy điện), xe đạp máy đội khi tham gia giao thông (sau đây viết tắt là mũ bảo hiểm) là mũ có đủ các tính năng sau:\\n\\ta) Có cấu tạo đủ 3 bộ phận: vỏ mũ, đệm hấp thụ xung động bên trong vỏ mũ (đệm bảo vệ) và quai đeo; có kiểu dáng đáp ứng yêu cầu quy định tại khoản 2 Điều 4 của Thông tư liên tịch này;\\n\\tb) Đã được chứng nhận hợp quy, công bố hợp quy phù hợp quy chuẩn kỹ thuật quốc gia QCVN 2 : 2008/BKHCN ban hành kèm theo Quyết định số 04/2008/QĐ-BKHCN ngày 28 tháng 4 năm 2008 của Bộ trưởng Bộ Khoa học và Công nghệ; được gắn dấu hợp quy CR, ghi nhãn hàng hóa theo quy định của pháp luật.\\n2. Kinh doanh mũ bảo hiểm gồm các hoạt động: bán buôn, bán lẻ, đại lý mũ bảo hiểm tại Việt Nam.'}<br>"
      ],
      "text/plain": [
       "<IPython.core.display.Markdown object>"
      ]
     },
     "metadata": {},
     "output_type": "display_data"
    },
    {
     "ename": "",
     "evalue": "",
     "output_type": "error",
     "traceback": [
      "\u001B[1;31mThe Kernel crashed while executing code in the current cell or a previous cell. \n",
      "\u001B[1;31mPlease review the code in the cell(s) to identify a possible cause of the failure. \n",
      "\u001B[1;31mClick <a href='https://aka.ms/vscodeJupyterKernelCrash'>here</a> for more info. \n",
      "\u001B[1;31mView Jupyter <a href='command:jupyter.viewOutput'>log</a> for further details."
     ]
    }
   ],
   "source": [
    "TEST_QUESTION = \"Mình đi xe máy không đội mũ bảo hiểm bị phạt bao nhiêu tiền?\"\n",
    "retrievals = base_retriever.retrieve(\n",
    "    ViTokenizer.tokenize(TEST_QUESTION.lower())\n",
    ")\n",
    "\n",
    "for n in retrievals[:5]:\n",
    "    display_source_node(n, source_length=1000, show_source_metadata=True)"
   ]
  },
  {
   "cell_type": "code",
   "execution_count": null,
   "metadata": {},
   "outputs": [],
   "source": []
  }
 ],
 "metadata": {
  "kernelspec": {
   "display_name": "thesis",
   "language": "python",
   "name": "python3"
  },
  "language_info": {
   "codemirror_mode": {
    "name": "ipython",
    "version": 3
   },
   "file_extension": ".py",
   "mimetype": "text/x-python",
   "name": "python",
   "nbconvert_exporter": "python",
   "pygments_lexer": "ipython3",
   "version": "3.9.19"
  }
 },
 "nbformat": 4,
 "nbformat_minor": 2
}
