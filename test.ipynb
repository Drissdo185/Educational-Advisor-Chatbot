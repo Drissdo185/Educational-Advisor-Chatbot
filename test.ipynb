{
 "cells": [
  {
   "cell_type": "code",
   "execution_count": 6,
   "metadata": {},
   "outputs": [],
   "source": [
    "from transformers import AutoModel, AutoTokenizer\n",
    "import torch\n",
    "import torch.nn.functional as F\n",
    "# Load PhoBERT model and tokenizer\n",
    "model_name = \"vinai/phobert-large\"\n",
    "tokenizer = AutoTokenizer.from_pretrained(model_name)\n",
    "model = AutoModel.from_pretrained(model_name)\n",
    "\n",
    "# Load the educational data (Vietnamese FAQs)\n",
    "import json\n",
    "\n",
    "with open('educational_data_vn.json', 'r') as f:\n",
    "    educational_data = json.load(f)"
   ]
  },
  {
   "cell_type": "code",
   "execution_count": 7,
   "metadata": {},
   "outputs": [
    {
     "name": "stdout",
     "output_type": "stream",
     "text": [
      "Trường Đại học Quốc tế là một trong bảy trường đại học thành viên trực thuộc Đại học Quốc gia Thành phố Hồ Chí Minh, được thành lập vào tháng 12 năm 2003. Đây là trường đại học công lập đa ngành đầu tiên và duy nhất hiện nay tại Việt Nam sử dụng hoàn toàn tiếng Anh trong công tác đào tạo giảng dạy và nghiên cứu.\n",
      "Hiện nay, Nhà trường đang đào tạo hệ chính quy bậc đại học và sau đại học. Nhà trường tập trung đào tạo các ngành học thuộc lĩnh vực mũi nhọn như như kinh tế, quản lý, kỹ thuật công nghệ. Mô hình hoạt động của trường được xây dựng hiện đại theo tiêu chuẩn quốc tế về đội ngũ giảng viên, giáo trình, chương trình học có định hướng và liên thông với các trường đại học có thứ hạng cao ở các nước trên thế giới như Hoa Kỳ, Châu u và khu vực Châu Á – Thái Bình Dương.\n",
      "Mục tiêu của Trường Đại học Quốc tế là trở thành một trong những trường đại học nghiên cứu hàng đầu tại Việt Nam và trong khu vực, có khả năng đào tạo và cung cấp nguồn nhân lực chất lượng cao nhằm đáp ứng được nhu cầu phát triển và hội nhập của đất nước.\n"
     ]
    }
   ],
   "source": [
    "# Function to compute embeddings using PhoBERT\n",
    "def get_embeddings(text):\n",
    "    inputs = tokenizer(text, return_tensors=\"pt\")\n",
    "    with torch.no_grad():\n",
    "        model_output = model(**inputs)\n",
    "    return model_output.last_hidden_state.mean(dim=1)  # Get the mean embedding for the sentence\n",
    "\n",
    "# Function to find the most similar predefined question\n",
    "def get_most_similar_question(question, data):\n",
    "    question_embedding = get_embeddings(question)\n",
    "    max_similarity = -1\n",
    "    best_answer = \"Xin lỗi, tôi không hiểu câu hỏi của bạn. Vui lòng thử lại.\"\n",
    "\n",
    "    for category in data:\n",
    "        for item in data[category][\"questions\"]:\n",
    "            predefined_question = item[\"question\"]\n",
    "            predefined_embedding = get_embeddings(predefined_question)\n",
    "\n",
    "            # Compute cosine similarity between the input question and predefined question\n",
    "            similarity = F.cosine_similarity(question_embedding, predefined_embedding).item()\n",
    "\n",
    "            # Find the question with the highest similarity\n",
    "            if similarity > max_similarity:\n",
    "                max_similarity = similarity\n",
    "                best_answer = item[\"answer\"]\n",
    "\n",
    "    return best_answer\n",
    "\n",
    "# Function to get chatbot response\n",
    "def chatbot_response(input_text):\n",
    "    response = get_most_similar_question(input_text, educational_data)\n",
    "    return response\n",
    "\n",
    "# Example usage\n",
    "student_question = \"Thong tin ve truong?\"\n",
    "response = chatbot_response(student_question)\n",
    "print(response)"
   ]
  },
  {
   "cell_type": "code",
   "execution_count": null,
   "metadata": {},
   "outputs": [],
   "source": []
  }
 ],
 "metadata": {
  "kernelspec": {
   "display_name": "thesis",
   "language": "python",
   "name": "python3"
  },
  "language_info": {
   "codemirror_mode": {
    "name": "ipython",
    "version": 3
   },
   "file_extension": ".py",
   "mimetype": "text/x-python",
   "name": "python",
   "nbconvert_exporter": "python",
   "pygments_lexer": "ipython3",
   "version": "3.9.19"
  }
 },
 "nbformat": 4,
 "nbformat_minor": 2
}
